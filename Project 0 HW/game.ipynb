{
 "cells": [
  {
   "cell_type": "markdown",
   "metadata": {},
   "source": [
    "# Игра угадай число"
   ]
  },
  {
   "cell_type": "code",
   "execution_count": 11,
   "metadata": {},
   "outputs": [],
   "source": [
    "from game_v2 import score_game\n",
    "from game_v2 import random_predict"
   ]
  },
  {
   "cell_type": "markdown",
   "metadata": {},
   "source": [
    "## Угадываем рандомно"
   ]
  },
  {
   "cell_type": "code",
   "execution_count": 9,
   "metadata": {},
   "outputs": [
    {
     "ename": "KeyboardInterrupt",
     "evalue": "",
     "output_type": "error",
     "traceback": [
      "\u001b[1;31m---------------------------------------------------------------------------\u001b[0m",
      "\u001b[1;31mKeyboardInterrupt\u001b[0m                         Traceback (most recent call last)",
      "\u001b[1;32mc:\\ML\\IDE\\sf_data_science\\Project 0 HW\\game.ipynb Ячейка 4\u001b[0m in \u001b[0;36m<cell line: 1>\u001b[1;34m()\u001b[0m\n\u001b[1;32m----> <a href='vscode-notebook-cell:/c%3A/ML/IDE/sf_data_science/Project%200%20HW/game.ipynb#W3sZmlsZQ%3D%3D?line=0'>1</a>\u001b[0m score_game(random_predict)\n",
      "File \u001b[1;32mc:\\ML\\IDE\\sf_data_science\\Project 0 HW\\game_v2.py:54\u001b[0m, in \u001b[0;36mscore_game\u001b[1;34m(random_predict)\u001b[0m\n\u001b[0;32m     51\u001b[0m random_array \u001b[39m=\u001b[39m np\u001b[39m.\u001b[39mrandom\u001b[39m.\u001b[39mrandint(\u001b[39m1\u001b[39m, \u001b[39m101\u001b[39m, size\u001b[39m=\u001b[39m(\u001b[39m1000\u001b[39m))  \u001b[39m# загадали список чисел\u001b[39;00m\n\u001b[0;32m     53\u001b[0m \u001b[39mfor\u001b[39;00m number \u001b[39min\u001b[39;00m random_array:\n\u001b[1;32m---> 54\u001b[0m     count_ls\u001b[39m.\u001b[39mappend(random_predict(number))\n\u001b[0;32m     56\u001b[0m score \u001b[39m=\u001b[39m \u001b[39mint\u001b[39m(np\u001b[39m.\u001b[39mmean(count_ls))\n\u001b[0;32m     57\u001b[0m \u001b[39mprint\u001b[39m(\u001b[39mf\u001b[39m\u001b[39m\"\u001b[39m\u001b[39mВаш алгоритм угадывает число в среднем за:\u001b[39m\u001b[39m{\u001b[39;00mscore\u001b[39m}\u001b[39;00m\u001b[39m попыток\u001b[39m\u001b[39m\"\u001b[39m)\n",
      "File \u001b[1;32mc:\\ML\\IDE\\sf_data_science\\Project 0 HW\\game_v2.py:24\u001b[0m, in \u001b[0;36mrandom_predict\u001b[1;34m(number)\u001b[0m\n\u001b[0;32m     18\u001b[0m predict_number \u001b[39m=\u001b[39m \u001b[39m50\u001b[39m\n\u001b[0;32m     19\u001b[0m \u001b[39mwhile\u001b[39;00m \u001b[39mTrue\u001b[39;00m:\n\u001b[0;32m     20\u001b[0m     \n\u001b[0;32m     21\u001b[0m     \n\u001b[0;32m     22\u001b[0m     \n\u001b[0;32m     23\u001b[0m      \u001b[39m# предполагаемое число\u001b[39;00m\n\u001b[1;32m---> 24\u001b[0m     \u001b[39mif\u001b[39;00m number \u001b[39m==\u001b[39;49m predict_number:\n\u001b[0;32m     25\u001b[0m         \u001b[39mbreak\u001b[39;00m  \u001b[39m# выход из цикла если угадали\u001b[39;00m\n\u001b[0;32m     26\u001b[0m     \u001b[39mif\u001b[39;00m number \u001b[39m>\u001b[39m predict_number:\n",
      "\u001b[1;31mKeyboardInterrupt\u001b[0m: "
     ]
    }
   ],
   "source": [
    "score_game(random_predict)"
   ]
  },
  {
   "cell_type": "code",
   "execution_count": null,
   "metadata": {},
   "outputs": [],
   "source": []
  }
 ],
 "metadata": {
  "kernelspec": {
   "display_name": "Python 3.10.6 64-bit",
   "language": "python",
   "name": "python3"
  },
  "language_info": {
   "codemirror_mode": {
    "name": "ipython",
    "version": 3
   },
   "file_extension": ".py",
   "mimetype": "text/x-python",
   "name": "python",
   "nbconvert_exporter": "python",
   "pygments_lexer": "ipython3",
   "version": "3.10.6"
  },
  "orig_nbformat": 4,
  "vscode": {
   "interpreter": {
    "hash": "8ce826ad022d739c312ef0cd9b2263736176b37369fd6c7b190f5ddd3fc1d401"
   }
  }
 },
 "nbformat": 4,
 "nbformat_minor": 2
}
